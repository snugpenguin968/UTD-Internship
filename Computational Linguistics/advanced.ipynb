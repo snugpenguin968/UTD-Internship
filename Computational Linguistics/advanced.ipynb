{
  "nbformat": 4,
  "nbformat_minor": 0,
  "metadata": {
    "colab": {
      "name": "advanced.ipynb",
      "provenance": []
    },
    "kernelspec": {
      "name": "python3",
      "display_name": "Python 3"
    },
    "language_info": {
      "name": "python"
    }
  },
  "cells": [
    {
      "cell_type": "markdown",
      "source": [
        "# Exploring SpaCy across Different Languages"
      ],
      "metadata": {
        "id": "ZaHWjw0v6c8L"
      }
    },
    {
      "cell_type": "code",
      "source": [
        "import pandas as pd\n",
        "import spacy\n",
        "from numpy import log"
      ],
      "metadata": {
        "id": "KLVr5L4x6UjZ"
      },
      "execution_count": null,
      "outputs": []
    },
    {
      "cell_type": "code",
      "source": [
        "!python3 -m spacy download ja_core_news_sm --quiet\n",
        "!python3 -m spacy download es_core_news_sm --quiet\n",
        "!python3 -m spacy download en_core_web_sm --quiet"
      ],
      "metadata": {
        "id": "zBRHA5uV6kjK",
        "colab": {
          "base_uri": "https://localhost:8080/"
        },
        "outputId": "f458fd0c-9b60-4719-8ae3-693fed509be9"
      },
      "execution_count": null,
      "outputs": [
        {
          "output_type": "stream",
          "name": "stdout",
          "text": [
            "\u001b[K     |████████████████████████████████| 12.0 MB 4.4 MB/s \n",
            "\u001b[K     |████████████████████████████████| 2.2 MB 4.3 MB/s \n",
            "\u001b[?25h  Building wheel for sudachidict-core (setup.py) ... \u001b[?25l\u001b[?25hdone\n",
            "\u001b[38;5;2m✔ Download and installation successful\u001b[0m\n",
            "You can now load the package via spacy.load('ja_core_news_sm')\n",
            "\u001b[K     |████████████████████████████████| 12.9 MB 4.2 MB/s \n",
            "\u001b[?25h\u001b[38;5;2m✔ Download and installation successful\u001b[0m\n",
            "You can now load the package via spacy.load('es_core_news_sm')\n",
            "\u001b[K     |████████████████████████████████| 12.8 MB 4.6 MB/s \n",
            "\u001b[?25h\u001b[38;5;2m✔ Download and installation successful\u001b[0m\n",
            "You can now load the package via spacy.load('en_core_web_sm')\n"
          ]
        }
      ]
    },
    {
      "cell_type": "code",
      "source": [
        "nlp_en=spacy.load('en_core_web_sm')\n",
        "nlp_sp=spacy.load('es_core_news_sm')\n",
        "nlp_jp=spacy.load('ja_core_news_sm')"
      ],
      "metadata": {
        "id": "fylDTCKf8u7q"
      },
      "execution_count": null,
      "outputs": []
    },
    {
      "cell_type": "code",
      "source": [
        "#use Google translate\n",
        "english_sent='The cat is on the mat.'\n",
        "spanish_sent='el gato está en la colchoneta.'\n",
        "japanese_sent='猫はマットの上にいる.'"
      ],
      "metadata": {
        "id": "cEukjrGu8xPw"
      },
      "execution_count": null,
      "outputs": []
    },
    {
      "cell_type": "code",
      "source": [
        "en_proc=nlp_en(english_sent)\n",
        "sp_proc=nlp_sp(spanish_sent)\n",
        "jp_proc=nlp_jp(japanese_sent)"
      ],
      "metadata": {
        "id": "lFOCBkWjAwyw"
      },
      "execution_count": null,
      "outputs": []
    },
    {
      "cell_type": "code",
      "source": [
        "for token in en_proc:\n",
        "  print('English',token.orth_,token.lemma_,token.pos_,token.head.orth_,token.dep_)\n",
        "print('-'*20)\n",
        "for token in sp_proc:\n",
        "  print('Spanish',token.orth_,token.lemma_,token.pos_,token.head.orth_,token.dep_)\n",
        "print('-'*20)\n",
        "for token in jp_proc:\n",
        "  print('Japanese',token.orth_,token.lemma_,token.pos_,token.head.orth_,token.dep_)"
      ],
      "metadata": {
        "colab": {
          "base_uri": "https://localhost:8080/"
        },
        "id": "OmWzfdgfBCxS",
        "outputId": "3e30d42e-a124-43a3-b5c3-5d7513c8e260"
      },
      "execution_count": null,
      "outputs": [
        {
          "output_type": "stream",
          "name": "stdout",
          "text": [
            "English The the DET cat det\n",
            "English cat cat NOUN is nsubj\n",
            "English is be AUX is ROOT\n",
            "English on on ADP is prep\n",
            "English the the DET mat det\n",
            "English mat mat NOUN on pobj\n",
            "English . . PUNCT is punct\n",
            "--------------------\n",
            "Spanish el el DET gato det\n",
            "Spanish gato gato NOUN está nsubj\n",
            "Spanish está estar VERB está ROOT\n",
            "Spanish en en ADP colchoneta case\n",
            "Spanish la el DET colchoneta det\n",
            "Spanish colchoneta colchoneta NOUN está obl\n",
            "Spanish . . PUNCT está punct\n",
            "--------------------\n",
            "Japanese 猫 猫 NOUN いる nsubj\n",
            "Japanese は は ADP 猫 case\n",
            "Japanese マット マット NOUN 上 nmod\n",
            "Japanese の の ADP マット case\n",
            "Japanese 上 上 NOUN いる obl\n",
            "Japanese に に ADP 上 case\n",
            "Japanese いる いる VERB いる ROOT\n",
            "Japanese . . PUNCT いる punct\n"
          ]
        }
      ]
    },
    {
      "cell_type": "code",
      "source": [
        "import nltk\n",
        "nltk.download(['knbc','cess_esp','brown'],quiet=True)\n",
        "from nltk.corpus import knbc,cess_esp,brown"
      ],
      "metadata": {
        "id": "1XPrjFpiBETU"
      },
      "execution_count": null,
      "outputs": []
    },
    {
      "cell_type": "code",
      "source": [
        "en_sent=brown.sents()[1000]\n",
        "jp_sent=knbc.sents()[1000]\n",
        "es_sent=cess_esp.sents()[1000]\n",
        "\n",
        "en=' '.join(en_sent)\n",
        "jp=' '.join(jp_sent)\n",
        "es=' '.join(es_sent)\n",
        "\n",
        "en_proc=nlp_en(en)\n",
        "jp_proc=nlp_jp(jp)\n",
        "es_proc=nlp_sp(es)"
      ],
      "metadata": {
        "id": "jS6xNsz0Ewin"
      },
      "execution_count": null,
      "outputs": []
    },
    {
      "cell_type": "code",
      "source": [
        "for token in en_proc:\n",
        "  print('English',token.orth_,token.lemma_,token.pos_)\n",
        "print('-'*20)\n",
        "for token in es_proc:\n",
        "  print('Spanish',token.orth_,token.lemma_,token.pos_)\n",
        "print('-'*20)\n",
        "for token in jp_proc:\n",
        "  print('Japanese',token.orth_,token.lemma_,token.pos_)"
      ],
      "metadata": {
        "colab": {
          "base_uri": "https://localhost:8080/"
        },
        "id": "SvzxOOf5F39r",
        "outputId": "2fd132bc-809d-4cf1-d2e2-d02ae2313f93"
      },
      "execution_count": null,
      "outputs": [
        {
          "output_type": "stream",
          "name": "stdout",
          "text": [
            "English 800 800 NUM\n",
            "English in in ADP\n",
            "English Southern Southern PROPN\n",
            "English New New PROPN\n",
            "English England England PROPN\n",
            "English , , PUNCT\n",
            "English we we PRON\n",
            "English have have VERB\n",
            "English 60 60 NUM\n",
            "English ; ; PUNCT\n",
            "English ; ; PUNCT\n",
            "--------------------\n",
            "Spanish En en ADP\n",
            "Spanish el el DET\n",
            "Spanish mismo mismo DET\n",
            "Spanish acto acto NOUN\n",
            "Spanish electoral electoral ADJ\n",
            "Spanish , , PUNCT\n",
            "Spanish Maragall Maragall PROPN\n",
            "Spanish ha haber AUX\n",
            "Spanish expresado expresar VERB\n",
            "Spanish la el DET\n",
            "Spanish preocupación preocupación NOUN\n",
            "Spanish de de ADP\n",
            "Spanish su su DET\n",
            "Spanish partido partido NOUN\n",
            "Spanish por por ADP\n",
            "Spanish la el DET\n",
            "Spanish \" \" PUNCT\n",
            "Spanish hemorragia hemorragia NOUN\n",
            "Spanish \" \" PUNCT\n",
            "Spanish de de ADP\n",
            "Spanish actividad actividad NOUN\n",
            "Spanish económica económico ADJ\n",
            "Spanish que que PRON\n",
            "Spanish se él PRON\n",
            "Spanish traslada trasladar VERB\n",
            "Spanish desde desde ADP\n",
            "Spanish Cataluña Cataluña PROPN\n",
            "Spanish a a ADP\n",
            "Spanish Madrid Madrid PROPN\n",
            "Spanish y y CCONJ\n",
            "Spanish * * PUNCT\n",
            "Spanish 0 0 NUM\n",
            "Spanish * * NUM\n",
            "Spanish ha haber AUX\n",
            "Spanish pedido pedir VERB\n",
            "Spanish a a ADP\n",
            "Spanish Almunia Almunia PROPN\n",
            "Spanish que que SCONJ\n",
            "Spanish , , PUNCT\n",
            "Spanish si si SCONJ\n",
            "Spanish * * SYM\n",
            "Spanish 0 0 NUM\n",
            "Spanish * * NOUN\n",
            "Spanish es ser AUX\n",
            "Spanish presidente presidente NOUN\n",
            "Spanish del del ADP\n",
            "Spanish Gobierno Gobierno PROPN\n",
            "Spanish * * SYM\n",
            "Spanish 0 0 NUM\n",
            "Spanish * * NOUN\n",
            "Spanish intente intente ADJ\n",
            "Spanish \" \" PUNCT\n",
            "Spanish rectificar rectificar VERB\n",
            "Spanish estas este DET\n",
            "Spanish estrategias estrategia NOUN\n",
            "Spanish porque porque SCONJ\n",
            "Spanish tampoco tampoco ADV\n",
            "Spanish en en ADP\n",
            "Spanish esto este PRON\n",
            "Spanish , , PUNCT\n",
            "Spanish España España PROPN\n",
            "Spanish no no ADV\n",
            "Spanish debe deber AUX\n",
            "Spanish ser ser AUX\n",
            "Spanish monopolística monopolístico ADJ\n",
            "Spanish sino sino CCONJ\n",
            "Spanish plural plural ADJ\n",
            "Spanish \" \" PUNCT\n",
            "Spanish . . PUNCT\n",
            "--------------------\n",
            "Japanese Ｔ t NOUN\n",
            "Japanese から から ADP\n",
            "Japanese 始まる 始まる VERB\n",
            "Japanese ブランド ブランド NOUN\n",
            "Japanese に に ADP\n",
            "Japanese は は ADP\n",
            "Japanese 気 気 NOUN\n",
            "Japanese を を ADP\n",
            "Japanese 付け 付ける VERB\n",
            "Japanese た た AUX\n",
            "Japanese ほう ほう NOUN\n",
            "Japanese が が ADP\n",
            "Japanese いい いい ADJ\n",
            "Japanese です です AUX\n",
            "Japanese （ ( PROPN\n",
            "Japanese 笑 笑 NOUN\n",
            "Japanese ） ) NOUN\n",
            "Japanese 。 。 PUNCT\n"
          ]
        }
      ]
    },
    {
      "cell_type": "markdown",
      "source": [
        "# Greenbergian Universals\n"
      ],
      "metadata": {
        "id": "Z0xh3-JoHPSj"
      }
    },
    {
      "cell_type": "code",
      "source": [
        "from collections import defaultdict\n",
        "\n",
        "def greenberg(sent_corpus,model):\n",
        "  #Count head-final structures\n",
        "  fd=defaultdict(int)\n",
        "  #Count all structures\n",
        "  count_fd=defaultdict(int)\n",
        "  for sent in sent_corpus:\n",
        "    proc=model(' '.join(sent))\n",
        "    #For each preprocessed word...\n",
        "    for w in proc:\n",
        "      #if it has syntactic children...\n",
        "      if len(list(w.children))>0:\n",
        "        #for each child...\n",
        "        for child in w.children:\n",
        "          #count its dependency\n",
        "          count_fd[child.head.dep_]+=1\n",
        "          #also count if it's head-final\n",
        "          if child.i<w.i:\n",
        "            fd[child.head.dep_]+=1\n",
        "  output_df=defaultdict()\n",
        "  for key in set(fd.keys()).union(set(count_fd.keys())):\n",
        "    output_df[key]=fd[key]/count_fd[key]\n",
        "  return output_df"
      ],
      "metadata": {
        "id": "LAiW3bEqF7E0"
      },
      "execution_count": null,
      "outputs": []
    },
    {
      "cell_type": "code",
      "source": [
        "en_orders=greenberg(brown.sents()[:1000],nlp_en)\n",
        "print(en_orders)\n",
        "jp_orders=greenberg(knbc.sents()[:1000],nlp_jp)\n",
        "print(jp_orders)\n",
        "es_orders=greenberg(cess_esp.sents()[:1000],nlp_sp)\n",
        "print(es_orders)"
      ],
      "metadata": {
        "colab": {
          "base_uri": "https://localhost:8080/"
        },
        "id": "MyBJH_inLQ2d",
        "outputId": "197df257-927a-4b96-d27c-183461406335"
      },
      "execution_count": null,
      "outputs": [
        {
          "output_type": "stream",
          "name": "stdout",
          "text": [
            "defaultdict(None, {'xcomp': 0.4050632911392405, 'poss': 0.49382716049382713, 'csubj': 0.25, 'oprd': 0.7, 'appos': 0.5205992509363296, 'nsubjpass': 0.7237569060773481, 'nsubj': 0.7394034536891679, 'csubjpass': 1.0, 'npadvmod': 0.7407407407407407, 'acl': 0.3309178743961353, 'advcl': 0.563249001331558, 'ROOT': 0.44150624074465833, 'conj': 0.44051130776794495, 'ccomp': 0.5816956765861875, 'auxpass': 1.0, 'pcomp': 0.28019323671497587, 'aux': 0.0, 'pobj': 0.6990062761506276, 'prep': 0.01273100616016427, 'nmod': 0.4095238095238095, 'dobj': 0.6649968691296181, 'compound': 1.0, 'amod': 0.4971751412429379, 'mark': 0.2, 'cc': 0.8333333333333334, 'parataxis': 0.639344262295082, 'agent': 0.011111111111111112, 'advmod': 0.5348837209302325, 'relcl': 0.5781990521327014, 'attr': 0.592797783933518, 'acomp': 0.35294117647058826, 'preconj': 0.0, 'punct': 0.0, 'dative': 0.23076923076923078, 'nummod': 0.875968992248062, 'dep': 0.6363636363636364})\n",
            "defaultdict(None, {'csubj': 0.37719298245614036, 'nsubj': 0.4307342922028766, 'acl': 0.5623735670937289, 'advcl': 0.44185171245765903, 'ROOT': 0.513305147973141, 'ccomp': 0.4838709677419355, 'fixed': 0.14285714285714285, 'aux': 0.0, 'nmod': 0.4501940491591203, 'compound': 0.3851851851851852, 'amod': 1.0, 'mark': 0.0, 'cc': 0.0, 'case': 0.020942408376963352, 'cop': 0.0, 'advmod': 0.28, 'dislocated': 0.4782608695652174, 'obj': 0.4713584288052373, 'obl': 0.415127528583993, 'punct': 0.47058823529411764, 'nummod': 0.0, 'dep': 0.41823899371069184})\n",
            "defaultdict(None, {'xcomp': 0.38266068759342303, 'csubj': 0.5286624203821656, 'appos': 0.5262345679012346, 'nsubj': 0.4746734628862695, 'acl': 0.5873239436619718, 'iobj': 0.7045454545454546, 'advcl': 0.541329739442947, 'ROOT': 0.35427974947807933, 'conj': 0.6881313131313131, 'ccomp': 0.5417310664605873, 'fixed': 0.0, 'aux': 0.4, 'nmod': 0.6944279786603438, 'flat': 0.6857142857142857, 'compound': 0.5882352941176471, 'amod': 0.33699059561128525, 'mark': 0.22727272727272727, 'cc': 0.16666666666666666, 'case': 0.06666666666666667, 'cop': 0.7142857142857143, 'parataxis': 0.3953488372093023, 'advmod': 0.3256997455470738, 'expl:impers': 0.5, 'det': 0.3034188034188034, 'obj': 0.5438370846730975, 'obl': 0.6763531499556344, 'punct': 0.2, 'nummod': 0.7738927738927739, 'dep': 0.5769230769230769})\n"
          ]
        }
      ]
    },
    {
      "cell_type": "code",
      "source": [
        "print(jp_orders['nsubj'])\n",
        "print(en_orders['nsubj'])\n",
        "print(es_orders['nsubj'])\n",
        "print()\n",
        "print(jp_orders['obj'])\n",
        "print(en_orders['dobj'])\n",
        "print(es_orders['obj'])\n",
        "print()\n",
        "print(jp_orders['amod'])\n",
        "print(en_orders['amod'])\n",
        "print(es_orders['amod'])\n"
      ],
      "metadata": {
        "colab": {
          "base_uri": "https://localhost:8080/"
        },
        "id": "afm2msseJWWy",
        "outputId": "0c3eaa83-275e-4b69-9c1b-45040321628c"
      },
      "execution_count": null,
      "outputs": [
        {
          "output_type": "stream",
          "name": "stdout",
          "text": [
            "0.4307342922028766\n",
            "0.7394034536891679\n",
            "0.4746734628862695\n",
            "\n",
            "0.4713584288052373\n",
            "0.6649968691296181\n",
            "0.5438370846730975\n",
            "\n",
            "1.0\n",
            "0.4971751412429379\n",
            "0.33699059561128525\n"
          ]
        }
      ]
    }
  ]
}